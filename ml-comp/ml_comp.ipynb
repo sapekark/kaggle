{
 "cells": [
  {
   "cell_type": "code",
   "execution_count": 1,
   "metadata": {},
   "outputs": [],
   "source": [
    "# Importing all the needed libraries for this project\n",
    "import numpy as np\n",
    "import pandas as pd\n",
    "import xgboost as xgb\n"
   ]
  },
  {
   "cell_type": "code",
   "execution_count": 2,
   "metadata": {},
   "outputs": [],
   "source": [
    "# Loading the training data set to a DataFrame using pandas.\n",
    "# The DataFrame structure makes exploring the data easy.\n",
    "\n",
    "training_X = pd.read_csv('data/traindata.csv')\n",
    "training_y = pd.read_csv('data/traindata_label.csv')\n",
    "test_X = pd.read_csv('data/testdata.csv')"
   ]
  },
  {
   "cell_type": "markdown",
   "metadata": {},
   "source": [
    "# Preprocessing the data\n",
    "\n",
    "We can see that the following columns contain categorical features: type and region. \n",
    "Also \"Date\" is not in a form that is good for machine learning.\n",
    "\n",
    "We should consider encoding these features into a different form.\n",
    "\n",
    "For features 'type' and 'region' our method is straightforward: we perform dummy encoding on them.\n",
    "\n",
    "For the feature 'date', I hypothesize that seasonal data would provide better results, when it comes to prices of fruit. (Fruits can be in- our out of season.) So we turn each date to represent one of the seasons of the year, and replace the date data with this newly created 'season' data. This seasonal data is then dummy encoded."
   ]
  },
  {
   "cell_type": "code",
   "execution_count": 3,
   "metadata": {
    "scrolled": false
   },
   "outputs": [],
   "source": [
    "# For categorical values, are good way to include them in the analysis is either \n",
    "# dummy- or one hot encoding.\n",
    "# pandas provides a function for this through \"get_dummies\".\n",
    "\n",
    "# Turns dates in to the season, in which they take place.\n",
    "# For example: 05.01.2018 => 'Winter'\n",
    "def dateToSeason (dates):\n",
    "    seasons = []\n",
    "    for day in dates:\n",
    "        if day[5:7] in ['12', '01', '02']:\n",
    "            seasons.append('Winter')\n",
    "        elif day[5:7] in ['03','04','05']:\n",
    "            seasons.append('Spring')\n",
    "        elif day[5:7] in ['06','07','08']:\n",
    "            seasons.append('Summer')\n",
    "        else:\n",
    "            seasons.append('Fall')\n",
    "    return seasons\n",
    "\n",
    "\n",
    "            \n",
    "# Preprocessing for our features.\n",
    "# Mainly this function handles encoding categorical features into numerical data.\n",
    "def preprocessing (X):\n",
    "    # Creates dummy-encoding of feature 'type'.\n",
    "    type_encoded = pd.get_dummies(X['type'], prefix='type',drop_first=True)\n",
    "\n",
    "    # Then we concatenate the encoded values to our data.\n",
    "    X = pd.concat([X, type_encoded], axis=1)\n",
    "\n",
    "    #Finally we can drop the categorical column \"type\" from our DataFrame.\n",
    "    X.drop(['type'],axis=1, inplace=True)\n",
    "\n",
    "\n",
    "    # Same for \"region\"\n",
    "    X = pd.concat([X, pd.get_dummies(X['region'], prefix='region',drop_first=True)], axis=1)\n",
    "    X.drop(['region'],axis=1, inplace=True)\n",
    "\n",
    "    # Turn dates into seasons and drop date info altogether, replacing it with season data.\n",
    "    dates = X['Date'].values.tolist()\n",
    "    seasons = dateToSeason(dates)\n",
    "    X['season'] = seasons\n",
    "    \n",
    "    \n",
    "    X.drop(['Date'], axis=1, inplace=True)\n",
    "    X = pd.concat([X, pd.get_dummies(X['season'], prefix='season',drop_first=False)], axis=1)\n",
    "    X.drop(['season'],axis=1, inplace=True)\n",
    "    \n",
    "    return X\n"
   ]
  },
  {
   "cell_type": "code",
   "execution_count": 4,
   "metadata": {},
   "outputs": [],
   "source": [
    "# Here the preprocessing steps described in the above functions are run on our data.\n",
    "training_X = preprocessing(training_X)\n",
    "# The data is sorted, so that the same order is preserved between training and testing data.\n",
    "training_X = training_X.reindex(sorted(training_X.columns), axis=1)\n",
    "\n",
    "test_X = preprocessing(test_X)\n",
    "\n",
    "# Test data doesn't include Fall and Summer values, so the columns have to be added manually into the features.\n",
    "test_X['season_Fall'] = 0\n",
    "test_X['season_Summer'] = 0\n",
    "test_X  = test_X.reindex(sorted(test_X.columns), axis=1)\n"
   ]
  },
  {
   "cell_type": "markdown",
   "metadata": {},
   "source": [
    "# Training the model\n",
    "\n",
    "After processing our data, the machine learning model is trained. For this project I decided to use gradient boosting, namely the XGBoost library.\n",
    "\n",
    "Gradient boosting is a valid choice because it handles highly dimensional data well, because our region data is dummy encoded, it increases the number of features greatly."
   ]
  },
  {
   "cell_type": "code",
   "execution_count": 5,
   "metadata": {},
   "outputs": [
    {
     "name": "stdout",
     "output_type": "stream",
     "text": [
      "[22:39:03] WARNING: /workspace/src/objective/regression_obj.cu:152: reg:linear is now deprecated in favor of reg:squarederror.\n"
     ]
    }
   ],
   "source": [
    "model = xgb.XGBRegressor(learning_rate=0.1,n_estimators=1000)\n",
    "\n",
    "model.fit(training_X, training_y)\n",
    "result = model.predict(test_X)\n"
   ]
  },
  {
   "cell_type": "code",
   "execution_count": 6,
   "metadata": {},
   "outputs": [],
   "source": [
    "# Creating the submission file, code from the example kernel.\n",
    "result_df = pd.DataFrame(result)\n",
    "result_df.to_csv(\"ml_comp_submission.csv\", header=[\"AveragePrice\"], index_label=\"ID\")"
   ]
  },
  {
   "cell_type": "code",
   "execution_count": null,
   "metadata": {},
   "outputs": [],
   "source": []
  }
 ],
 "metadata": {
  "@webio": {
   "lastCommId": null,
   "lastKernelId": null
  },
  "kernelspec": {
   "display_name": "Python 3",
   "language": "python",
   "name": "python3"
  },
  "language_info": {
   "codemirror_mode": {
    "name": "ipython",
    "version": 3
   },
   "file_extension": ".py",
   "mimetype": "text/x-python",
   "name": "python",
   "nbconvert_exporter": "python",
   "pygments_lexer": "ipython3",
   "version": "3.7.1"
  }
 },
 "nbformat": 4,
 "nbformat_minor": 2
}
